{
  "nbformat": 4,
  "nbformat_minor": 0,
  "metadata": {
    "colab": {
      "name": "Mynewnotebook.ipynb",
      "provenance": []
    },
    "kernelspec": {
      "name": "python3",
      "display_name": "Python 3"
    }
  },
  "cells": [
    {
      "cell_type": "markdown",
      "metadata": {
        "id": "GOk6KmYU4QQV"
      },
      "source": [
        "#My first Notebook\r\n",
        "**Let's try some codes**"
      ]
    },
    {
      "cell_type": "code",
      "metadata": {
        "colab": {
          "base_uri": "https://localhost:8080/"
        },
        "id": "HypxPk9Q4HIo",
        "outputId": "d3771d81-8ec1-448f-e68b-52faae155755"
      },
      "source": [
        "#calculate\r\n",
        "2*(3+4)"
      ],
      "execution_count": 1,
      "outputs": [
        {
          "output_type": "execute_result",
          "data": {
            "text/plain": [
              "14"
            ]
          },
          "metadata": {
            "tags": []
          },
          "execution_count": 1
        }
      ]
    },
    {
      "cell_type": "code",
      "metadata": {
        "colab": {
          "base_uri": "https://localhost:8080/"
        },
        "id": "odbpjShr4-eS",
        "outputId": "31b0798c-87fe-4434-c6ce-4716746522be"
      },
      "source": [
        "print('first value:', 1)\r\n",
        "print('second vaue:', 2)"
      ],
      "execution_count": 2,
      "outputs": [
        {
          "output_type": "stream",
          "text": [
            "first value: 1\n",
            "second vaue: 2\n"
          ],
          "name": "stdout"
        }
      ]
    },
    {
      "cell_type": "code",
      "metadata": {
        "colab": {
          "base_uri": "https://localhost:8080/"
        },
        "id": "AR0LFwBc5QQ_",
        "outputId": "5ee0c7c7-f115-413e-cd62-320f53d19ae0"
      },
      "source": [
        "Numbers= [4,3,2,1]\r\n",
        "Numbers.sort()\r\n",
        "print(Numbers)"
      ],
      "execution_count": 3,
      "outputs": [
        {
          "output_type": "stream",
          "text": [
            "[1, 2, 3, 4]\n"
          ],
          "name": "stdout"
        }
      ]
    }
  ]
}